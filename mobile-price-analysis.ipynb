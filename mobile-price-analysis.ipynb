{
 "cells": [
  {
   "cell_type": "markdown",
   "id": "fe0897d8",
   "metadata": {
    "_cell_guid": "b1076dfc-b9ad-4769-8c92-a6c4dae69d19",
    "_uuid": "8f2839f25d086af736a60e9eeb907d3b93b6e0e5",
    "execution": {
     "iopub.execute_input": "2021-10-11T07:08:37.800705Z",
     "iopub.status.busy": "2021-10-11T07:08:37.799729Z",
     "iopub.status.idle": "2021-10-11T07:08:47.358334Z",
     "shell.execute_reply": "2021-10-11T07:08:47.335812Z",
     "shell.execute_reply.started": "2021-10-11T07:08:37.800598Z"
    },
    "papermill": {
     "duration": 0.022078,
     "end_time": "2021-10-27T03:24:10.082534",
     "exception": false,
     "start_time": "2021-10-27T03:24:10.060456",
     "status": "completed"
    },
    "tags": []
   },
   "source": [
    "### Import Libraries"
   ]
  },
  {
   "cell_type": "markdown",
   "id": "f093f006",
   "metadata": {
    "papermill": {
     "duration": 0.018761,
     "end_time": "2021-10-27T03:24:10.121935",
     "exception": false,
     "start_time": "2021-10-27T03:24:10.103174",
     "status": "completed"
    },
    "tags": []
   },
   "source": [
    "**This notebook inspired by LASAL JAYAWARDENA and I use it for researching only!!**\n",
    "\n",
    "**Thanks for sharing!**\n"
   ]
  },
  {
   "cell_type": "markdown",
   "id": "cce46cda",
   "metadata": {
    "papermill": {
     "duration": 0.018889,
     "end_time": "2021-10-27T03:24:10.160370",
     "exception": false,
     "start_time": "2021-10-27T03:24:10.141481",
     "status": "completed"
    },
    "tags": []
   },
   "source": [
    "1. import data\n",
    "2. clear data: \n",
    " * conver data in Price column\n",
    " * seperate Location to City and District\n",
    "3. EDA\n",
    " * check stats of dataframe\n",
    " *  Checking the null values \n",
    " * creaete heatmap\n",
    "4. Data viz\n",
    "    * Most popular Mobile Brand\n",
    "    * Most popular Mobile Model.\n",
    "    * Top 10 Cities by Number of phones stold\n",
    "    * Top 10 Districts by Number of Mobile phones stold\n",
    "    * Distibution of seller types\n",
    "    * Top 10 Sellers by Number of Mobile phones stold\n",
    "    * Top 10 Sellers by Total Revenue of phones stold\n",
    "    * Visualize most popular features in phones\n",
    "    * Create and generate a word cloud image\n",
    "    * Display the generated image\n",
    "\n",
    "\n"
   ]
  },
  {
   "cell_type": "code",
   "execution_count": 1,
   "id": "bee4acea",
   "metadata": {
    "execution": {
     "iopub.execute_input": "2021-10-27T03:24:10.213831Z",
     "iopub.status.busy": "2021-10-27T03:24:10.213041Z",
     "iopub.status.idle": "2021-10-27T03:24:11.232113Z",
     "shell.execute_reply": "2021-10-27T03:24:11.231275Z",
     "shell.execute_reply.started": "2021-10-27T03:22:35.179497Z"
    },
    "papermill": {
     "duration": 1.052199,
     "end_time": "2021-10-27T03:24:11.232286",
     "exception": false,
     "start_time": "2021-10-27T03:24:10.180087",
     "status": "completed"
    },
    "tags": []
   },
   "outputs": [],
   "source": [
    "import os\n",
    "import re\n",
    "import pandas as pd\n",
    "import numpy as np\n",
    "import matplotlib.pyplot as plt\n",
    "import matplotlib.image as mpimg\n",
    "import seaborn as sns\n",
    "%config Completer.use_jedi = False"
   ]
  },
  {
   "cell_type": "markdown",
   "id": "7a047ce0",
   "metadata": {
    "papermill": {
     "duration": 0.018299,
     "end_time": "2021-10-27T03:24:11.269077",
     "exception": false,
     "start_time": "2021-10-27T03:24:11.250778",
     "status": "completed"
    },
    "tags": []
   },
   "source": [
    "### Load the Data"
   ]
  },
  {
   "cell_type": "code",
   "execution_count": 2,
   "id": "7e648c93",
   "metadata": {
    "execution": {
     "iopub.execute_input": "2021-10-27T03:24:11.311950Z",
     "iopub.status.busy": "2021-10-27T03:24:11.311239Z",
     "iopub.status.idle": "2021-10-27T03:24:11.677999Z",
     "shell.execute_reply": "2021-10-27T03:24:11.677430Z",
     "shell.execute_reply.started": "2021-10-27T03:22:35.199454Z"
    },
    "papermill": {
     "duration": 0.390626,
     "end_time": "2021-10-27T03:24:11.678165",
     "exception": false,
     "start_time": "2021-10-27T03:24:11.287539",
     "status": "completed"
    },
    "tags": []
   },
   "outputs": [],
   "source": [
    "df = pd.read_csv('../input/sri-lanka-mobile-prices-dataset/mobile_prices.csv')"
   ]
  },
  {
   "cell_type": "code",
   "execution_count": 3,
   "id": "32a448ba",
   "metadata": {
    "execution": {
     "iopub.execute_input": "2021-10-27T03:24:11.725158Z",
     "iopub.status.busy": "2021-10-27T03:24:11.724436Z",
     "iopub.status.idle": "2021-10-27T03:24:11.745915Z",
     "shell.execute_reply": "2021-10-27T03:24:11.746474Z",
     "shell.execute_reply.started": "2021-10-27T03:22:35.390113Z"
    },
    "papermill": {
     "duration": 0.04957,
     "end_time": "2021-10-27T03:24:11.746650",
     "exception": false,
     "start_time": "2021-10-27T03:24:11.697080",
     "status": "completed"
    },
    "tags": []
   },
   "outputs": [
    {
     "data": {
      "text/html": [
       "<div>\n",
       "<style scoped>\n",
       "    .dataframe tbody tr th:only-of-type {\n",
       "        vertical-align: middle;\n",
       "    }\n",
       "\n",
       "    .dataframe tbody tr th {\n",
       "        vertical-align: top;\n",
       "    }\n",
       "\n",
       "    .dataframe thead th {\n",
       "        text-align: right;\n",
       "    }\n",
       "</style>\n",
       "<table border=\"1\" class=\"dataframe\">\n",
       "  <thead>\n",
       "    <tr style=\"text-align: right;\">\n",
       "      <th></th>\n",
       "      <th>Title</th>\n",
       "      <th>Sub_title</th>\n",
       "      <th>Price</th>\n",
       "      <th>Brand</th>\n",
       "      <th>Condition</th>\n",
       "      <th>Edition</th>\n",
       "      <th>Model</th>\n",
       "      <th>Features</th>\n",
       "      <th>Location</th>\n",
       "      <th>Description</th>\n",
       "      <th>Post_URL</th>\n",
       "      <th>Seller_name</th>\n",
       "      <th>Seller_type</th>\n",
       "      <th>published_date</th>\n",
       "    </tr>\n",
       "  </thead>\n",
       "  <tbody>\n",
       "    <tr>\n",
       "      <th>0</th>\n",
       "      <td>Apple iPhone 11 128GB (Used) for sale</td>\n",
       "      <td>Posted on 09 Oct 1:05 pm, Moratuwa, Colombo</td>\n",
       "      <td>Rs 137,990</td>\n",
       "      <td>Apple</td>\n",
       "      <td>Used</td>\n",
       "      <td>128GB</td>\n",
       "      <td>iPhone 11</td>\n",
       "      <td>NaN</td>\n",
       "      <td>Moratuwa,  Colombo</td>\n",
       "      <td>à¶à¶¶à¶§ à·à·à¶¯ à¶­à¶­à·à·à¶ºà· à¶",
       "à¶½à...</td>\n",
       "      <td>https://ikman.lk/en/ad/apple-iphone-11-128gb-u...</td>\n",
       "      <td>T.Phone Zone</td>\n",
       "      <td>Premium-Member</td>\n",
       "      <td>2021-10-09 13:05:00</td>\n",
       "    </tr>\n",
       "    <tr>\n",
       "      <th>1</th>\n",
       "      <td>Infinix Hot 10 Play (New) for sale</td>\n",
       "      <td>Posted on 23 Oct 8:34 pm, Alutgama, Kalutara</td>\n",
       "      <td>Rs 28,500</td>\n",
       "      <td>Infinix</td>\n",
       "      <td>New</td>\n",
       "      <td>Hot 10 Play</td>\n",
       "      <td>Other model</td>\n",
       "      <td>Bluetooth, Camera, Dual-Lens Camera, Dual SIM,...</td>\n",
       "      <td>Alutgama,  Kalutara</td>\n",
       "      <td>INFINIX HOT 10 PLAY4 GB RAM / 64GB  ROM   ââ...</td>\n",
       "      <td>https://ikman.lk/en/ad/infinix-hot-10-play-new...</td>\n",
       "      <td>EMAX Sri Lanka</td>\n",
       "      <td>Member</td>\n",
       "      <td>2021-10-23 20:34:00</td>\n",
       "    </tr>\n",
       "    <tr>\n",
       "      <th>2</th>\n",
       "      <td>Apple iPhone 7 USA &lt; USA&gt; (Used) for sale</td>\n",
       "      <td>Posted on 24 Oct 10:24 am, Angoda, Colombo</td>\n",
       "      <td>Rs 35,000</td>\n",
       "      <td>Apple</td>\n",
       "      <td>Used</td>\n",
       "      <td>USA &lt; USA&gt;</td>\n",
       "      <td>iPhone 7</td>\n",
       "      <td>NaN</td>\n",
       "      <td>Angoda,  Colombo</td>\n",
       "      <td>ððIMPORTED NOT USED IN SRI LANKAðð...</td>\n",
       "      <td>https://ikman.lk/en/ad/apple-iphone-7-usa-usa-...</td>\n",
       "      <td>Smart Hub</td>\n",
       "      <td>Premium-Member</td>\n",
       "      <td>2021-10-24 10:24:00</td>\n",
       "    </tr>\n",
       "    <tr>\n",
       "      <th>3</th>\n",
       "      <td>Huawei Y3 (Used) for sale</td>\n",
       "      <td>Posted on 24 Oct 10:23 am, Negombo, Gampaha</td>\n",
       "      <td>Rs 7,000</td>\n",
       "      <td>Huawei</td>\n",
       "      <td>Used</td>\n",
       "      <td>NaN</td>\n",
       "      <td>Y3</td>\n",
       "      <td>Bluetooth, Camera, Dual SIM, Expandable Memory...</td>\n",
       "      <td>Negombo,  Gampaha</td>\n",
       "      <td>glass crack price can change call for more det...</td>\n",
       "      <td>https://ikman.lk/en/ad/huawei-y3-used-for-sale...</td>\n",
       "      <td>philip roshan</td>\n",
       "      <td>Member</td>\n",
       "      <td>2021-10-24 10:23:00</td>\n",
       "    </tr>\n",
       "    <tr>\n",
       "      <th>4</th>\n",
       "      <td>Xiaomi Redmi 9 (Used) for sale</td>\n",
       "      <td>Posted on 24 Oct 10:22 am, Kottawa, Colombo</td>\n",
       "      <td>Rs 19,000</td>\n",
       "      <td>Xiaomi</td>\n",
       "      <td>Used</td>\n",
       "      <td>Xiaomi</td>\n",
       "      <td>Redmi 9</td>\n",
       "      <td>Bluetooth, Camera, Dual-Lens Camera, Dual SIM,...</td>\n",
       "      <td>Kottawa,  Colombo</td>\n",
       "      <td>full set 4th cam glass crack all cams working ...</td>\n",
       "      <td>https://ikman.lk/en/ad/xiaomi-redmi-9-good-use...</td>\n",
       "      <td>maxa king</td>\n",
       "      <td>Member</td>\n",
       "      <td>2021-10-24 10:22:00</td>\n",
       "    </tr>\n",
       "  </tbody>\n",
       "</table>\n",
       "</div>"
      ],
      "text/plain": [
       "                                       Title  \\\n",
       "0      Apple iPhone 11 128GB (Used) for sale   \n",
       "1         Infinix Hot 10 Play (New) for sale   \n",
       "2  Apple iPhone 7 USA < USA> (Used) for sale   \n",
       "3                  Huawei Y3 (Used) for sale   \n",
       "4             Xiaomi Redmi 9 (Used) for sale   \n",
       "\n",
       "                                      Sub_title       Price    Brand  \\\n",
       "0   Posted on 09 Oct 1:05 pm, Moratuwa, Colombo  Rs 137,990    Apple   \n",
       "1  Posted on 23 Oct 8:34 pm, Alutgama, Kalutara   Rs 28,500  Infinix   \n",
       "2    Posted on 24 Oct 10:24 am, Angoda, Colombo   Rs 35,000    Apple   \n",
       "3   Posted on 24 Oct 10:23 am, Negombo, Gampaha    Rs 7,000   Huawei   \n",
       "4   Posted on 24 Oct 10:22 am, Kottawa, Colombo   Rs 19,000   Xiaomi   \n",
       "\n",
       "  Condition      Edition        Model  \\\n",
       "0      Used        128GB    iPhone 11   \n",
       "1       New  Hot 10 Play  Other model   \n",
       "2      Used   USA < USA>     iPhone 7   \n",
       "3      Used          NaN           Y3   \n",
       "4      Used       Xiaomi      Redmi 9   \n",
       "\n",
       "                                            Features              Location  \\\n",
       "0                                                NaN    Moratuwa,  Colombo   \n",
       "1  Bluetooth, Camera, Dual-Lens Camera, Dual SIM,...   Alutgama,  Kalutara   \n",
       "2                                                NaN      Angoda,  Colombo   \n",
       "3  Bluetooth, Camera, Dual SIM, Expandable Memory...     Negombo,  Gampaha   \n",
       "4  Bluetooth, Camera, Dual-Lens Camera, Dual SIM,...     Kottawa,  Colombo   \n",
       "\n",
       "                                         Description  \\\n",
       "0  à¶à¶¶à¶§ à·à·à¶¯ à¶­à¶­à·à·à¶ºà· à¶\n",
       "à¶½à...   \n",
       "1  INFINIX HOT 10 PLAY4 GB RAM / 64GB  ROM   ââ...   \n",
       "2  ððIMPORTED NOT USED IN SRI LANKAðð...   \n",
       "3  glass crack price can change call for more det...   \n",
       "4  full set 4th cam glass crack all cams working ...   \n",
       "\n",
       "                                            Post_URL     Seller_name  \\\n",
       "0  https://ikman.lk/en/ad/apple-iphone-11-128gb-u...    T.Phone Zone   \n",
       "1  https://ikman.lk/en/ad/infinix-hot-10-play-new...  EMAX Sri Lanka   \n",
       "2  https://ikman.lk/en/ad/apple-iphone-7-usa-usa-...       Smart Hub   \n",
       "3  https://ikman.lk/en/ad/huawei-y3-used-for-sale...   philip roshan   \n",
       "4  https://ikman.lk/en/ad/xiaomi-redmi-9-good-use...       maxa king   \n",
       "\n",
       "      Seller_type       published_date  \n",
       "0  Premium-Member  2021-10-09 13:05:00  \n",
       "1          Member  2021-10-23 20:34:00  \n",
       "2  Premium-Member  2021-10-24 10:24:00  \n",
       "3          Member  2021-10-24 10:23:00  \n",
       "4          Member  2021-10-24 10:22:00  "
      ]
     },
     "execution_count": 3,
     "metadata": {},
     "output_type": "execute_result"
    }
   ],
   "source": [
    "df.head()\n"
   ]
  },
  {
   "cell_type": "markdown",
   "id": "3b1f070a",
   "metadata": {
    "papermill": {
     "duration": 0.018861,
     "end_time": "2021-10-27T03:24:11.786401",
     "exception": false,
     "start_time": "2021-10-27T03:24:11.767540",
     "status": "completed"
    },
    "tags": []
   },
   "source": [
    "### Data Cleaning"
   ]
  },
  {
   "cell_type": "code",
   "execution_count": 4,
   "id": "e9d9b1e7",
   "metadata": {
    "execution": {
     "iopub.execute_input": "2021-10-27T03:24:11.831737Z",
     "iopub.status.busy": "2021-10-27T03:24:11.830930Z",
     "iopub.status.idle": "2021-10-27T03:24:11.833354Z",
     "shell.execute_reply": "2021-10-27T03:24:11.833840Z",
     "shell.execute_reply.started": "2021-10-27T03:22:35.412948Z"
    },
    "papermill": {
     "duration": 0.028402,
     "end_time": "2021-10-27T03:24:11.834035",
     "exception": false,
     "start_time": "2021-10-27T03:24:11.805633",
     "status": "completed"
    },
    "tags": []
   },
   "outputs": [],
   "source": [
    "#clean the data in price column: covert to number\n",
    "# Return nan for prices which are listed as negotiable\n",
    "\n",
    "def extract_num(row):\n",
    "    try:\n",
    "        amount = row.split(' ')[-1] \n",
    "        return int(re.sub(r'[.,]', '', amount))\n",
    "    except:\n",
    "        np.nan\n",
    "\n",
    "    "
   ]
  },
  {
   "cell_type": "code",
   "execution_count": 5,
   "id": "e87aa5d1",
   "metadata": {
    "execution": {
     "iopub.execute_input": "2021-10-27T03:24:11.886523Z",
     "iopub.status.busy": "2021-10-27T03:24:11.875648Z",
     "iopub.status.idle": "2021-10-27T03:24:11.921176Z",
     "shell.execute_reply": "2021-10-27T03:24:11.920458Z",
     "shell.execute_reply.started": "2021-10-27T03:22:35.421944Z"
    },
    "papermill": {
     "duration": 0.067952,
     "end_time": "2021-10-27T03:24:11.921328",
     "exception": false,
     "start_time": "2021-10-27T03:24:11.853376",
     "status": "completed"
    },
    "tags": []
   },
   "outputs": [],
   "source": [
    "df['Price']= df['Price'].apply(extract_num)"
   ]
  },
  {
   "cell_type": "code",
   "execution_count": 6,
   "id": "2e3cbeb1",
   "metadata": {
    "execution": {
     "iopub.execute_input": "2021-10-27T03:24:11.969699Z",
     "iopub.status.busy": "2021-10-27T03:24:11.968647Z",
     "iopub.status.idle": "2021-10-27T03:24:11.972862Z",
     "shell.execute_reply": "2021-10-27T03:24:11.973428Z",
     "shell.execute_reply.started": "2021-10-27T03:22:35.467307Z"
    },
    "papermill": {
     "duration": 0.032796,
     "end_time": "2021-10-27T03:24:11.973611",
     "exception": false,
     "start_time": "2021-10-27T03:24:11.940815",
     "status": "completed"
    },
    "tags": []
   },
   "outputs": [
    {
     "data": {
      "text/plain": [
       "0        137990\n",
       "1         28500\n",
       "2         35000\n",
       "3          7000\n",
       "4         19000\n",
       "          ...  \n",
       "10222     28999\n",
       "10223     25000\n",
       "10224     38000\n",
       "10225     29550\n",
       "10226     39500\n",
       "Name: Price, Length: 10227, dtype: int64"
      ]
     },
     "execution_count": 6,
     "metadata": {},
     "output_type": "execute_result"
    }
   ],
   "source": [
    "df['Price']"
   ]
  },
  {
   "cell_type": "code",
   "execution_count": 7,
   "id": "46cf5409",
   "metadata": {
    "execution": {
     "iopub.execute_input": "2021-10-27T03:24:12.042761Z",
     "iopub.status.busy": "2021-10-27T03:24:12.041710Z",
     "iopub.status.idle": "2021-10-27T03:24:12.053623Z",
     "shell.execute_reply": "2021-10-27T03:24:12.054176Z",
     "shell.execute_reply.started": "2021-10-27T03:22:35.475825Z"
    },
    "papermill": {
     "duration": 0.060932,
     "end_time": "2021-10-27T03:24:12.054359",
     "exception": false,
     "start_time": "2021-10-27T03:24:11.993427",
     "status": "completed"
    },
    "tags": []
   },
   "outputs": [
    {
     "data": {
      "text/html": [
       "<div>\n",
       "<style scoped>\n",
       "    .dataframe tbody tr th:only-of-type {\n",
       "        vertical-align: middle;\n",
       "    }\n",
       "\n",
       "    .dataframe tbody tr th {\n",
       "        vertical-align: top;\n",
       "    }\n",
       "\n",
       "    .dataframe thead th {\n",
       "        text-align: right;\n",
       "    }\n",
       "</style>\n",
       "<table border=\"1\" class=\"dataframe\">\n",
       "  <thead>\n",
       "    <tr style=\"text-align: right;\">\n",
       "      <th></th>\n",
       "      <th>Title</th>\n",
       "      <th>Sub_title</th>\n",
       "      <th>Price</th>\n",
       "      <th>Brand</th>\n",
       "      <th>Condition</th>\n",
       "      <th>Edition</th>\n",
       "      <th>Model</th>\n",
       "      <th>Features</th>\n",
       "      <th>Location</th>\n",
       "      <th>Description</th>\n",
       "      <th>Post_URL</th>\n",
       "      <th>Seller_name</th>\n",
       "      <th>Seller_type</th>\n",
       "      <th>published_date</th>\n",
       "      <th>City</th>\n",
       "      <th>District</th>\n",
       "    </tr>\n",
       "  </thead>\n",
       "  <tbody>\n",
       "    <tr>\n",
       "      <th>0</th>\n",
       "      <td>Apple iPhone 11 128GB (Used) for sale</td>\n",
       "      <td>Posted on 09 Oct 1:05 pm, Moratuwa, Colombo</td>\n",
       "      <td>137990</td>\n",
       "      <td>Apple</td>\n",
       "      <td>Used</td>\n",
       "      <td>128GB</td>\n",
       "      <td>iPhone 11</td>\n",
       "      <td>NaN</td>\n",
       "      <td>Moratuwa,  Colombo</td>\n",
       "      <td>à¶à¶¶à¶§ à·à·à¶¯ à¶­à¶­à·à·à¶ºà· à¶",
       "à¶½à...</td>\n",
       "      <td>https://ikman.lk/en/ad/apple-iphone-11-128gb-u...</td>\n",
       "      <td>T.Phone Zone</td>\n",
       "      <td>Premium-Member</td>\n",
       "      <td>2021-10-09 13:05:00</td>\n",
       "      <td>Moratuwa</td>\n",
       "      <td>Colombo</td>\n",
       "    </tr>\n",
       "    <tr>\n",
       "      <th>1</th>\n",
       "      <td>Infinix Hot 10 Play (New) for sale</td>\n",
       "      <td>Posted on 23 Oct 8:34 pm, Alutgama, Kalutara</td>\n",
       "      <td>28500</td>\n",
       "      <td>Infinix</td>\n",
       "      <td>New</td>\n",
       "      <td>Hot 10 Play</td>\n",
       "      <td>Other model</td>\n",
       "      <td>Bluetooth, Camera, Dual-Lens Camera, Dual SIM,...</td>\n",
       "      <td>Alutgama,  Kalutara</td>\n",
       "      <td>INFINIX HOT 10 PLAY4 GB RAM / 64GB  ROM   ââ...</td>\n",
       "      <td>https://ikman.lk/en/ad/infinix-hot-10-play-new...</td>\n",
       "      <td>EMAX Sri Lanka</td>\n",
       "      <td>Member</td>\n",
       "      <td>2021-10-23 20:34:00</td>\n",
       "      <td>Alutgama</td>\n",
       "      <td>Kalutara</td>\n",
       "    </tr>\n",
       "    <tr>\n",
       "      <th>2</th>\n",
       "      <td>Apple iPhone 7 USA &lt; USA&gt; (Used) for sale</td>\n",
       "      <td>Posted on 24 Oct 10:24 am, Angoda, Colombo</td>\n",
       "      <td>35000</td>\n",
       "      <td>Apple</td>\n",
       "      <td>Used</td>\n",
       "      <td>USA &lt; USA&gt;</td>\n",
       "      <td>iPhone 7</td>\n",
       "      <td>NaN</td>\n",
       "      <td>Angoda,  Colombo</td>\n",
       "      <td>ððIMPORTED NOT USED IN SRI LANKAðð...</td>\n",
       "      <td>https://ikman.lk/en/ad/apple-iphone-7-usa-usa-...</td>\n",
       "      <td>Smart Hub</td>\n",
       "      <td>Premium-Member</td>\n",
       "      <td>2021-10-24 10:24:00</td>\n",
       "      <td>Angoda</td>\n",
       "      <td>Colombo</td>\n",
       "    </tr>\n",
       "    <tr>\n",
       "      <th>3</th>\n",
       "      <td>Huawei Y3 (Used) for sale</td>\n",
       "      <td>Posted on 24 Oct 10:23 am, Negombo, Gampaha</td>\n",
       "      <td>7000</td>\n",
       "      <td>Huawei</td>\n",
       "      <td>Used</td>\n",
       "      <td>NaN</td>\n",
       "      <td>Y3</td>\n",
       "      <td>Bluetooth, Camera, Dual SIM, Expandable Memory...</td>\n",
       "      <td>Negombo,  Gampaha</td>\n",
       "      <td>glass crack price can change call for more det...</td>\n",
       "      <td>https://ikman.lk/en/ad/huawei-y3-used-for-sale...</td>\n",
       "      <td>philip roshan</td>\n",
       "      <td>Member</td>\n",
       "      <td>2021-10-24 10:23:00</td>\n",
       "      <td>Negombo</td>\n",
       "      <td>Gampaha</td>\n",
       "    </tr>\n",
       "    <tr>\n",
       "      <th>4</th>\n",
       "      <td>Xiaomi Redmi 9 (Used) for sale</td>\n",
       "      <td>Posted on 24 Oct 10:22 am, Kottawa, Colombo</td>\n",
       "      <td>19000</td>\n",
       "      <td>Xiaomi</td>\n",
       "      <td>Used</td>\n",
       "      <td>Xiaomi</td>\n",
       "      <td>Redmi 9</td>\n",
       "      <td>Bluetooth, Camera, Dual-Lens Camera, Dual SIM,...</td>\n",
       "      <td>Kottawa,  Colombo</td>\n",
       "      <td>full set 4th cam glass crack all cams working ...</td>\n",
       "      <td>https://ikman.lk/en/ad/xiaomi-redmi-9-good-use...</td>\n",
       "      <td>maxa king</td>\n",
       "      <td>Member</td>\n",
       "      <td>2021-10-24 10:22:00</td>\n",
       "      <td>Kottawa</td>\n",
       "      <td>Colombo</td>\n",
       "    </tr>\n",
       "  </tbody>\n",
       "</table>\n",
       "</div>"
      ],
      "text/plain": [
       "                                       Title  \\\n",
       "0      Apple iPhone 11 128GB (Used) for sale   \n",
       "1         Infinix Hot 10 Play (New) for sale   \n",
       "2  Apple iPhone 7 USA < USA> (Used) for sale   \n",
       "3                  Huawei Y3 (Used) for sale   \n",
       "4             Xiaomi Redmi 9 (Used) for sale   \n",
       "\n",
       "                                      Sub_title   Price    Brand Condition  \\\n",
       "0   Posted on 09 Oct 1:05 pm, Moratuwa, Colombo  137990    Apple      Used   \n",
       "1  Posted on 23 Oct 8:34 pm, Alutgama, Kalutara   28500  Infinix       New   \n",
       "2    Posted on 24 Oct 10:24 am, Angoda, Colombo   35000    Apple      Used   \n",
       "3   Posted on 24 Oct 10:23 am, Negombo, Gampaha    7000   Huawei      Used   \n",
       "4   Posted on 24 Oct 10:22 am, Kottawa, Colombo   19000   Xiaomi      Used   \n",
       "\n",
       "       Edition        Model  \\\n",
       "0        128GB    iPhone 11   \n",
       "1  Hot 10 Play  Other model   \n",
       "2   USA < USA>     iPhone 7   \n",
       "3          NaN           Y3   \n",
       "4       Xiaomi      Redmi 9   \n",
       "\n",
       "                                            Features              Location  \\\n",
       "0                                                NaN    Moratuwa,  Colombo   \n",
       "1  Bluetooth, Camera, Dual-Lens Camera, Dual SIM,...   Alutgama,  Kalutara   \n",
       "2                                                NaN      Angoda,  Colombo   \n",
       "3  Bluetooth, Camera, Dual SIM, Expandable Memory...     Negombo,  Gampaha   \n",
       "4  Bluetooth, Camera, Dual-Lens Camera, Dual SIM,...     Kottawa,  Colombo   \n",
       "\n",
       "                                         Description  \\\n",
       "0  à¶à¶¶à¶§ à·à·à¶¯ à¶­à¶­à·à·à¶ºà· à¶\n",
       "à¶½à...   \n",
       "1  INFINIX HOT 10 PLAY4 GB RAM / 64GB  ROM   ââ...   \n",
       "2  ððIMPORTED NOT USED IN SRI LANKAðð...   \n",
       "3  glass crack price can change call for more det...   \n",
       "4  full set 4th cam glass crack all cams working ...   \n",
       "\n",
       "                                            Post_URL     Seller_name  \\\n",
       "0  https://ikman.lk/en/ad/apple-iphone-11-128gb-u...    T.Phone Zone   \n",
       "1  https://ikman.lk/en/ad/infinix-hot-10-play-new...  EMAX Sri Lanka   \n",
       "2  https://ikman.lk/en/ad/apple-iphone-7-usa-usa-...       Smart Hub   \n",
       "3  https://ikman.lk/en/ad/huawei-y3-used-for-sale...   philip roshan   \n",
       "4  https://ikman.lk/en/ad/xiaomi-redmi-9-good-use...       maxa king   \n",
       "\n",
       "      Seller_type       published_date       City    District  \n",
       "0  Premium-Member  2021-10-09 13:05:00   Moratuwa     Colombo  \n",
       "1          Member  2021-10-23 20:34:00   Alutgama    Kalutara  \n",
       "2  Premium-Member  2021-10-24 10:24:00     Angoda     Colombo  \n",
       "3          Member  2021-10-24 10:23:00    Negombo     Gampaha  \n",
       "4          Member  2021-10-24 10:22:00    Kottawa     Colombo  "
      ]
     },
     "execution_count": 7,
     "metadata": {},
     "output_type": "execute_result"
    }
   ],
   "source": [
    "#create city and district column\n",
    "df['City']= df['Location'].apply(lambda x: x.split(',')[0])\n",
    "df['District']= df['Location'].apply(lambda x: x.split(',')[1])\n",
    "df.head()"
   ]
  },
  {
   "cell_type": "code",
   "execution_count": 8,
   "id": "6f4f1894",
   "metadata": {
    "execution": {
     "iopub.execute_input": "2021-10-27T03:24:12.100525Z",
     "iopub.status.busy": "2021-10-27T03:24:12.099486Z",
     "iopub.status.idle": "2021-10-27T03:24:12.116569Z",
     "shell.execute_reply": "2021-10-27T03:24:12.117162Z",
     "shell.execute_reply.started": "2021-10-27T03:22:35.517442Z"
    },
    "papermill": {
     "duration": 0.042705,
     "end_time": "2021-10-27T03:24:12.117353",
     "exception": false,
     "start_time": "2021-10-27T03:24:12.074648",
     "status": "completed"
    },
    "tags": []
   },
   "outputs": [],
   "source": [
    "df = df.drop('Location', axis=1)"
   ]
  },
  {
   "cell_type": "markdown",
   "id": "d0d42597",
   "metadata": {
    "papermill": {
     "duration": 0.02053,
     "end_time": "2021-10-27T03:24:12.158308",
     "exception": false,
     "start_time": "2021-10-27T03:24:12.137778",
     "status": "completed"
    },
    "tags": []
   },
   "source": [
    "### EDA"
   ]
  },
  {
   "cell_type": "code",
   "execution_count": 9,
   "id": "bf5455d9",
   "metadata": {
    "execution": {
     "iopub.execute_input": "2021-10-27T03:24:12.202699Z",
     "iopub.status.busy": "2021-10-27T03:24:12.201699Z",
     "iopub.status.idle": "2021-10-27T03:24:12.217489Z",
     "shell.execute_reply": "2021-10-27T03:24:12.218065Z",
     "shell.execute_reply.started": "2021-10-27T03:22:35.539112Z"
    },
    "papermill": {
     "duration": 0.039596,
     "end_time": "2021-10-27T03:24:12.218275",
     "exception": false,
     "start_time": "2021-10-27T03:24:12.178679",
     "status": "completed"
    },
    "tags": []
   },
   "outputs": [
    {
     "name": "stdout",
     "output_type": "stream",
     "text": [
      "               Price\n",
      "count   10227.000000\n",
      "mean    56704.923047\n",
      "std     65249.312301\n",
      "min       500.000000\n",
      "25%     21000.000000\n",
      "50%     33990.000000\n",
      "75%     60000.000000\n",
      "max    475000.000000\n"
     ]
    }
   ],
   "source": [
    "print(df.describe())"
   ]
  },
  {
   "cell_type": "code",
   "execution_count": 10,
   "id": "9c76415d",
   "metadata": {
    "execution": {
     "iopub.execute_input": "2021-10-27T03:24:12.264742Z",
     "iopub.status.busy": "2021-10-27T03:24:12.263998Z",
     "iopub.status.idle": "2021-10-27T03:24:12.375731Z",
     "shell.execute_reply": "2021-10-27T03:24:12.374647Z",
     "shell.execute_reply.started": "2021-10-27T03:22:35.555762Z"
    },
    "papermill": {
     "duration": 0.136622,
     "end_time": "2021-10-27T03:24:12.375980",
     "exception": false,
     "start_time": "2021-10-27T03:24:12.239358",
     "status": "completed"
    },
    "tags": []
   },
   "outputs": [
    {
     "name": "stdout",
     "output_type": "stream",
     "text": [
      "                                       Title  \\\n",
      "count                                  10227   \n",
      "unique                                  4655   \n",
      "top     Apple iPhone 7 128GB (Used) for sale   \n",
      "freq                                     209   \n",
      "\n",
      "                                            Sub_title  Brand Condition  \\\n",
      "count                                           10227  10227     10227   \n",
      "unique                                           9389     32         2   \n",
      "top     Posted on 23 Oct 11:24 am, Colombo 3, Colombo  Apple      Used   \n",
      "freq                                               50   4077      8332   \n",
      "\n",
      "       Edition     Model                                           Features  \\\n",
      "count     8639     10227                                               7472   \n",
      "unique    3069       462                                                975   \n",
      "top      128GB  iPhone 7  Bluetooth, Camera, Dual-Lens Camera, Dual SIM,...   \n",
      "freq       745       773                                               1712   \n",
      "\n",
      "                                              Description  \\\n",
      "count                                               10227   \n",
      "unique                                               8696   \n",
      "top     à·à·à¶» 13 à·à·à·à·à·à·à·à·à¶±à·à¶­...   \n",
      "freq                                                   77   \n",
      "\n",
      "                                                 Post_URL Seller_name  \\\n",
      "count                                               10227       10227   \n",
      "unique                                               9875        5227   \n",
      "top     https://ikman.lk/en/ad/sony-xperia-z3-xz3-new-...  Mobi Heart   \n",
      "freq                                                    3         156   \n",
      "\n",
      "       Seller_type       published_date           City   District  \n",
      "count        10227                10227          10227      10227  \n",
      "unique           2                 5215            198         25  \n",
      "top         Member  2021-10-23 08:08:00   Gampaha City    Colombo  \n",
      "freq          6000                   57            783       3384  \n"
     ]
    }
   ],
   "source": [
    "print(df.drop(\"Price\", axis=1).describe())"
   ]
  },
  {
   "cell_type": "code",
   "execution_count": 11,
   "id": "17a6c792",
   "metadata": {
    "execution": {
     "iopub.execute_input": "2021-10-27T03:24:12.478725Z",
     "iopub.status.busy": "2021-10-27T03:24:12.473143Z",
     "iopub.status.idle": "2021-10-27T03:24:12.482857Z",
     "shell.execute_reply": "2021-10-27T03:24:12.483802Z",
     "shell.execute_reply.started": "2021-10-27T03:22:35.647816Z"
    },
    "papermill": {
     "duration": 0.073723,
     "end_time": "2021-10-27T03:24:12.484091",
     "exception": false,
     "start_time": "2021-10-27T03:24:12.410368",
     "status": "completed"
    },
    "tags": []
   },
   "outputs": [
    {
     "data": {
      "text/plain": [
       "Title                0\n",
       "Sub_title            0\n",
       "Price                0\n",
       "Brand                0\n",
       "Condition            0\n",
       "Edition           1588\n",
       "Model                0\n",
       "Features          2755\n",
       "Description          0\n",
       "Post_URL             0\n",
       "Seller_name          0\n",
       "Seller_type          0\n",
       "published_date       0\n",
       "City                 0\n",
       "District             0\n",
       "dtype: int64"
      ]
     },
     "execution_count": 11,
     "metadata": {},
     "output_type": "execute_result"
    }
   ],
   "source": [
    "df.isnull().sum()"
   ]
  },
  {
   "cell_type": "markdown",
   "id": "fdbfb18e",
   "metadata": {
    "papermill": {
     "duration": 0.033954,
     "end_time": "2021-10-27T03:24:12.554380",
     "exception": false,
     "start_time": "2021-10-27T03:24:12.520426",
     "status": "completed"
    },
    "tags": []
   },
   "source": [
    "### Data Viz"
   ]
  },
  {
   "cell_type": "code",
   "execution_count": 12,
   "id": "572fe743",
   "metadata": {
    "execution": {
     "iopub.execute_input": "2021-10-27T03:24:12.631215Z",
     "iopub.status.busy": "2021-10-27T03:24:12.627313Z",
     "iopub.status.idle": "2021-10-27T03:24:13.366994Z",
     "shell.execute_reply": "2021-10-27T03:24:13.366271Z",
     "shell.execute_reply.started": "2021-10-27T03:22:35.674244Z"
    },
    "papermill": {
     "duration": 0.773266,
     "end_time": "2021-10-27T03:24:13.367147",
     "exception": false,
     "start_time": "2021-10-27T03:24:12.593881",
     "status": "completed"
    },
    "tags": []
   },
   "outputs": [
    {
     "data": {
      "text/plain": [
       "<AxesSubplot:>"
      ]
     },
     "execution_count": 12,
     "metadata": {},
     "output_type": "execute_result"
    },
    {
     "data": {
      "image/png": "[encoded data removed]",
      "text/plain": [
       "<Figure size 864x432 with 2 Axes>"
      ]
     },
     "metadata": {
      "needs_background": "light"
     },
     "output_type": "display_data"
    }
   ],
   "source": [
    "#heatmap\n",
    "plt.figure(figsize=(12,6))\n",
    "sns.heatmap(df.isnull(),cmap=\"YlGnBu\", yticklabels = False)"
   ]
  },
  {
   "cell_type": "code",
   "execution_count": 13,
   "id": "dc9ed9ac",
   "metadata": {
    "execution": {
     "iopub.execute_input": "2021-10-27T03:24:13.433073Z",
     "iopub.status.busy": "2021-10-27T03:24:13.432130Z",
     "iopub.status.idle": "2021-10-27T03:24:13.436840Z",
     "shell.execute_reply": "2021-10-27T03:24:13.436218Z",
     "shell.execute_reply.started": "2021-10-27T03:22:36.238961Z"
    },
    "papermill": {
     "duration": 0.046386,
     "end_time": "2021-10-27T03:24:13.437014",
     "exception": false,
     "start_time": "2021-10-27T03:24:13.390628",
     "status": "completed"
    },
    "tags": []
   },
   "outputs": [
    {
     "data": {
      "text/html": [
       "<div>\n",
       "<style scoped>\n",
       "    .dataframe tbody tr th:only-of-type {\n",
       "        vertical-align: middle;\n",
       "    }\n",
       "\n",
       "    .dataframe tbody tr th {\n",
       "        vertical-align: top;\n",
       "    }\n",
       "\n",
       "    .dataframe thead th {\n",
       "        text-align: right;\n",
       "    }\n",
       "</style>\n",
       "<table border=\"1\" class=\"dataframe\">\n",
       "  <thead>\n",
       "    <tr style=\"text-align: right;\">\n",
       "      <th></th>\n",
       "      <th>Title</th>\n",
       "      <th>Sub_title</th>\n",
       "      <th>Price</th>\n",
       "      <th>Brand</th>\n",
       "      <th>Condition</th>\n",
       "      <th>Edition</th>\n",
       "      <th>Model</th>\n",
       "      <th>Features</th>\n",
       "      <th>Description</th>\n",
       "      <th>Post_URL</th>\n",
       "      <th>Seller_name</th>\n",
       "      <th>Seller_type</th>\n",
       "      <th>published_date</th>\n",
       "      <th>City</th>\n",
       "      <th>District</th>\n",
       "    </tr>\n",
       "  </thead>\n",
       "  <tbody>\n",
       "    <tr>\n",
       "      <th>0</th>\n",
       "      <td>Apple iPhone 11 128GB (Used) for sale</td>\n",
       "      <td>Posted on 09 Oct 1:05 pm, Moratuwa, Colombo</td>\n",
       "      <td>137990</td>\n",
       "      <td>Apple</td>\n",
       "      <td>Used</td>\n",
       "      <td>128GB</td>\n",
       "      <td>iPhone 11</td>\n",
       "      <td>NaN</td>\n",
       "      <td>à¶à¶¶à¶§ à·à·à¶¯ à¶­à¶­à·à·à¶ºà· à¶",
       "à¶½à...</td>\n",
       "      <td>https://ikman.lk/en/ad/apple-iphone-11-128gb-u...</td>\n",
       "      <td>T.Phone Zone</td>\n",
       "      <td>Premium-Member</td>\n",
       "      <td>2021-10-09 13:05:00</td>\n",
       "      <td>Moratuwa</td>\n",
       "      <td>Colombo</td>\n",
       "    </tr>\n",
       "    <tr>\n",
       "      <th>1</th>\n",
       "      <td>Infinix Hot 10 Play (New) for sale</td>\n",
       "      <td>Posted on 23 Oct 8:34 pm, Alutgama, Kalutara</td>\n",
       "      <td>28500</td>\n",
       "      <td>Infinix</td>\n",
       "      <td>New</td>\n",
       "      <td>Hot 10 Play</td>\n",
       "      <td>Other model</td>\n",
       "      <td>Bluetooth, Camera, Dual-Lens Camera, Dual SIM,...</td>\n",
       "      <td>INFINIX HOT 10 PLAY4 GB RAM / 64GB  ROM   ââ...</td>\n",
       "      <td>https://ikman.lk/en/ad/infinix-hot-10-play-new...</td>\n",
       "      <td>EMAX Sri Lanka</td>\n",
       "      <td>Member</td>\n",
       "      <td>2021-10-23 20:34:00</td>\n",
       "      <td>Alutgama</td>\n",
       "      <td>Kalutara</td>\n",
       "    </tr>\n",
       "    <tr>\n",
       "      <th>2</th>\n",
       "      <td>Apple iPhone 7 USA &lt; USA&gt; (Used) for sale</td>\n",
       "      <td>Posted on 24 Oct 10:24 am, Angoda, Colombo</td>\n",
       "      <td>35000</td>\n",
       "      <td>Apple</td>\n",
       "      <td>Used</td>\n",
       "      <td>USA &lt; USA&gt;</td>\n",
       "      <td>iPhone 7</td>\n",
       "      <td>NaN</td>\n",
       "      <td>ððIMPORTED NOT USED IN SRI LANKAðð...</td>\n",
       "      <td>https://ikman.lk/en/ad/apple-iphone-7-usa-usa-...</td>\n",
       "      <td>Smart Hub</td>\n",
       "      <td>Premium-Member</td>\n",
       "      <td>2021-10-24 10:24:00</td>\n",
       "      <td>Angoda</td>\n",
       "      <td>Colombo</td>\n",
       "    </tr>\n",
       "    <tr>\n",
       "      <th>3</th>\n",
       "      <td>Huawei Y3 (Used) for sale</td>\n",
       "      <td>Posted on 24 Oct 10:23 am, Negombo, Gampaha</td>\n",
       "      <td>7000</td>\n",
       "      <td>Huawei</td>\n",
       "      <td>Used</td>\n",
       "      <td>NaN</td>\n",
       "      <td>Y3</td>\n",
       "      <td>Bluetooth, Camera, Dual SIM, Expandable Memory...</td>\n",
       "      <td>glass crack price can change call for more det...</td>\n",
       "      <td>https://ikman.lk/en/ad/huawei-y3-used-for-sale...</td>\n",
       "      <td>philip roshan</td>\n",
       "      <td>Member</td>\n",
       "      <td>2021-10-24 10:23:00</td>\n",
       "      <td>Negombo</td>\n",
       "      <td>Gampaha</td>\n",
       "    </tr>\n",
       "    <tr>\n",
       "      <th>4</th>\n",
       "      <td>Xiaomi Redmi 9 (Used) for sale</td>\n",
       "      <td>Posted on 24 Oct 10:22 am, Kottawa, Colombo</td>\n",
       "      <td>19000</td>\n",
       "      <td>Xiaomi</td>\n",
       "      <td>Used</td>\n",
       "      <td>Xiaomi</td>\n",
       "      <td>Redmi 9</td>\n",
       "      <td>Bluetooth, Camera, Dual-Lens Camera, Dual SIM,...</td>\n",
       "      <td>full set 4th cam glass crack all cams working ...</td>\n",
       "      <td>https://ikman.lk/en/ad/xiaomi-redmi-9-good-use...</td>\n",
       "      <td>maxa king</td>\n",
       "      <td>Member</td>\n",
       "      <td>2021-10-24 10:22:00</td>\n",
       "      <td>Kottawa</td>\n",
       "      <td>Colombo</td>\n",
       "    </tr>\n",
       "  </tbody>\n",
       "</table>\n",
       "</div>"
      ],
      "text/plain": [
       "                                       Title  \\\n",
       "0      Apple iPhone 11 128GB (Used) for sale   \n",
       "1         Infinix Hot 10 Play (New) for sale   \n",
       "2  Apple iPhone 7 USA < USA> (Used) for sale   \n",
       "3                  Huawei Y3 (Used) for sale   \n",
       "4             Xiaomi Redmi 9 (Used) for sale   \n",
       "\n",
       "                                      Sub_title   Price    Brand Condition  \\\n",
       "0   Posted on 09 Oct 1:05 pm, Moratuwa, Colombo  137990    Apple      Used   \n",
       "1  Posted on 23 Oct 8:34 pm, Alutgama, Kalutara   28500  Infinix       New   \n",
       "2    Posted on 24 Oct 10:24 am, Angoda, Colombo   35000    Apple      Used   \n",
       "3   Posted on 24 Oct 10:23 am, Negombo, Gampaha    7000   Huawei      Used   \n",
       "4   Posted on 24 Oct 10:22 am, Kottawa, Colombo   19000   Xiaomi      Used   \n",
       "\n",
       "       Edition        Model  \\\n",
       "0        128GB    iPhone 11   \n",
       "1  Hot 10 Play  Other model   \n",
       "2   USA < USA>     iPhone 7   \n",
       "3          NaN           Y3   \n",
       "4       Xiaomi      Redmi 9   \n",
       "\n",
       "                                            Features  \\\n",
       "0                                                NaN   \n",
       "1  Bluetooth, Camera, Dual-Lens Camera, Dual SIM,...   \n",
       "2                                                NaN   \n",
       "3  Bluetooth, Camera, Dual SIM, Expandable Memory...   \n",
       "4  Bluetooth, Camera, Dual-Lens Camera, Dual SIM,...   \n",
       "\n",
       "                                         Description  \\\n",
       "0  à¶à¶¶à¶§ à·à·à¶¯ à¶­à¶­à·à·à¶ºà· à¶\n",
       "à¶½à...   \n",
       "1  INFINIX HOT 10 PLAY4 GB RAM / 64GB  ROM   ââ...   \n",
       "2  ððIMPORTED NOT USED IN SRI LANKAðð...   \n",
       "3  glass crack price can change call for more det...   \n",
       "4  full set 4th cam glass crack all cams working ...   \n",
       "\n",
       "                                            Post_URL     Seller_name  \\\n",
       "0  https://ikman.lk/en/ad/apple-iphone-11-128gb-u...    T.Phone Zone   \n",
       "1  https://ikman.lk/en/ad/infinix-hot-10-play-new...  EMAX Sri Lanka   \n",
       "2  https://ikman.lk/en/ad/apple-iphone-7-usa-usa-...       Smart Hub   \n",
       "3  https://ikman.lk/en/ad/huawei-y3-used-for-sale...   philip roshan   \n",
       "4  https://ikman.lk/en/ad/xiaomi-redmi-9-good-use...       maxa king   \n",
       "\n",
       "      Seller_type       published_date       City    District  \n",
       "0  Premium-Member  2021-10-09 13:05:00   Moratuwa     Colombo  \n",
       "1          Member  2021-10-23 20:34:00   Alutgama    Kalutara  \n",
       "2  Premium-Member  2021-10-24 10:24:00     Angoda     Colombo  \n",
       "3          Member  2021-10-24 10:23:00    Negombo     Gampaha  \n",
       "4          Member  2021-10-24 10:22:00    Kottawa     Colombo  "
      ]
     },
     "execution_count": 13,
     "metadata": {},
     "output_type": "execute_result"
    }
   ],
   "source": [
    "df.head()"
   ]
  },
  {
   "cell_type": "code",
   "execution_count": 14,
   "id": "b7f8b7df",
   "metadata": {
    "execution": {
     "iopub.execute_input": "2021-10-27T03:24:13.492033Z",
     "iopub.status.busy": "2021-10-27T03:24:13.491293Z",
     "iopub.status.idle": "2021-10-27T03:24:13.508959Z",
     "shell.execute_reply": "2021-10-27T03:24:13.509559Z",
     "shell.execute_reply.started": "2021-10-27T03:22:36.262405Z"
    },
    "papermill": {
     "duration": 0.048232,
     "end_time": "2021-10-27T03:24:13.509744",
     "exception": false,
     "start_time": "2021-10-27T03:24:13.461512",
     "status": "completed"
    },
    "tags": []
   },
   "outputs": [
    {
     "data": {
      "text/plain": [
       "Brand\n",
       "Apple      4077\n",
       "Samsung    2620\n",
       "Xiaomi      791\n",
       "Huawei      720\n",
       "Sony        526\n",
       "Nokia       312\n",
       "Oppo        299\n",
       "Vivo        208\n",
       "LG          137\n",
       "OnePlus     124\n",
       "Name: count, dtype: int64"
      ]
     },
     "execution_count": 14,
     "metadata": {},
     "output_type": "execute_result"
    }
   ],
   "source": [
    "top_10_brand = df[[\"published_date\", \"Brand\"]].groupby(\"Brand\").agg(['count'])['published_date']['count'].sort_values(ascending=False)[:10]\n",
    "\n",
    "top_10_brand"
   ]
  },
  {
   "cell_type": "code",
   "execution_count": 15,
   "id": "888d2b00",
   "metadata": {
    "execution": {
     "iopub.execute_input": "2021-10-27T03:24:13.567855Z",
     "iopub.status.busy": "2021-10-27T03:24:13.566738Z",
     "iopub.status.idle": "2021-10-27T03:24:13.826769Z",
     "shell.execute_reply": "2021-10-27T03:24:13.826061Z",
     "shell.execute_reply.started": "2021-10-27T03:22:36.293373Z"
    },
    "papermill": {
     "duration": 0.293476,
     "end_time": "2021-10-27T03:24:13.826922",
     "exception": false,
     "start_time": "2021-10-27T03:24:13.533446",
     "status": "completed"
    },
    "tags": []
   },
   "outputs": [
    {
     "data": {
      "image/png": "[encoded data removed]",
      "text/plain": [
       "<Figure size 432x288 with 1 Axes>"
      ]
     },
     "metadata": {
      "needs_background": "light"
     },
     "output_type": "display_data"
    }
   ],
   "source": [
    "fig = sns.barplot( x = top_10_brand.index, y = top_10_brand.values)\n",
    "fig.set_xticklabels(labels=top_10_brand.index , rotation=45)\n",
    "fig.set_ylabel(\"Number of Mobile Phones in the Dataset\")\n",
    "fig.set_xlabel(\"Mobile Brand\")\n",
    "fig.set_title(\"Most Popular Mobile Phone Brand\");"
   ]
  },
  {
   "cell_type": "code",
   "execution_count": 16,
   "id": "3d89af97",
   "metadata": {
    "execution": {
     "iopub.execute_input": "2021-10-27T03:24:13.890305Z",
     "iopub.status.busy": "2021-10-27T03:24:13.889392Z",
     "iopub.status.idle": "2021-10-27T03:24:14.152806Z",
     "shell.execute_reply": "2021-10-27T03:24:14.153319Z",
     "shell.execute_reply.started": "2021-10-27T03:22:36.610154Z"
    },
    "papermill": {
     "duration": 0.300831,
     "end_time": "2021-10-27T03:24:14.153512",
     "exception": false,
     "start_time": "2021-10-27T03:24:13.852681",
     "status": "completed"
    },
    "tags": []
   },
   "outputs": [
    {
     "data": {
      "image/png": "[encoded data removed]",
      "text/plain": [
       "<Figure size 432x288 with 1 Axes>"
      ]
     },
     "metadata": {
      "needs_background": "light"
     },
     "output_type": "display_data"
    }
   ],
   "source": [
    "# Top 10 Districts by Number of Mobile phones sold\n",
    "\n",
    "top_10_dist = df[[\"published_date\", \"District\"]].groupby(\"District\").agg(['count'])[\"published_date\"]['count'].sort_values(ascending=False)[:10]\n",
    "fig = sns.barplot( x = top_10_dist.index, y = top_10_dist.values)\n",
    "fig.set_xticklabels(labels=top_10_dist.index , rotation=45)\n",
    "fig.set_ylabel(\"Number of Mobile Phones in the Dataset\")\n",
    "fig.set_xlabel(\"District Name\")\n",
    "fig.set_title(\"Top 10 Districts by Number of Phones Sold\");"
   ]
  },
  {
   "cell_type": "code",
   "execution_count": 17,
   "id": "84813249",
   "metadata": {
    "execution": {
     "iopub.execute_input": "2021-10-27T03:24:14.214012Z",
     "iopub.status.busy": "2021-10-27T03:24:14.213315Z",
     "iopub.status.idle": "2021-10-27T03:24:14.454156Z",
     "shell.execute_reply": "2021-10-27T03:24:14.454891Z",
     "shell.execute_reply.started": "2021-10-27T03:23:00.797271Z"
    },
    "papermill": {
     "duration": 0.275491,
     "end_time": "2021-10-27T03:24:14.455105",
     "exception": false,
     "start_time": "2021-10-27T03:24:14.179614",
     "status": "completed"
    },
    "tags": []
   },
   "outputs": [
    {
     "data": {
      "image/png": "[encoded data removed]",
      "text/plain": [
       "<Figure size 432x288 with 1 Axes>"
      ]
     },
     "metadata": {
      "needs_background": "light"
     },
     "output_type": "display_data"
    }
   ],
   "source": [
    "\n",
    "top_10_dist = df[['District', 'published_date']].groupby('District').agg(['count'])[\"published_date\"]['count'].sort_values(ascending=False)[:10]\n",
    "\n",
    "top_10_dist\n",
    "\n",
    "fig = sns.barplot( x = top_10_dist.index, y = top_10_dist.values)"
   ]
  },
  {
   "cell_type": "code",
   "execution_count": null,
   "id": "38a87efa",
   "metadata": {
    "papermill": {
     "duration": 0.026696,
     "end_time": "2021-10-27T03:24:14.510446",
     "exception": false,
     "start_time": "2021-10-27T03:24:14.483750",
     "status": "completed"
    },
    "tags": []
   },
   "outputs": [],
   "source": []
  }
 ],
 "metadata": {
  "kernelspec": {
   "display_name": "Python 3",
   "language": "python",
   "name": "python3"
  },
  "language_info": {
   "codemirror_mode": {
    "name": "ipython",
    "version": 3
   },
   "file_extension": ".py",
   "mimetype": "text/x-python",
   "name": "python",
   "nbconvert_exporter": "python",
   "pygments_lexer": "ipython3",
   "version": "3.7.10"
  },
  "papermill": {
   "default_parameters": {},
   "duration": 16.861746,
   "end_time": "2021-10-27T03:24:15.248194",
   "environment_variables": {},
   "exception": null,
   "input_path": "__notebook__.ipynb",
   "output_path": "__notebook__.ipynb",
   "parameters": {},
   "start_time": "2021-10-27T03:23:58.386448",
   "version": "2.3.3"
  }
 },
 "nbformat": 4,
 "nbformat_minor": 5
}
